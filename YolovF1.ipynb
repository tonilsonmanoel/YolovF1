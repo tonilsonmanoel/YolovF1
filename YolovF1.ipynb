{
  "cells": [
    {
      "cell_type": "code",
      "execution_count": null,
      "metadata": {
        "id": "VywgsBPbJi2P"
      },
      "outputs": [],
      "source": [
        "from google.colab import drive\n",
        "drive.mount(\"/content/gdrive\")"
      ]
    },
    {
      "cell_type": "code",
      "execution_count": null,
      "metadata": {
        "id": "uaOoyK8uPCR2"
      },
      "outputs": [],
      "source": [
        "import yaml\n",
        "\n",
        "yaml.__version__"
      ]
    },
    {
      "cell_type": "code",
      "execution_count": null,
      "metadata": {
        "id": "apkuL0qTPvZt"
      },
      "outputs": [],
      "source": [
        "!pip install --upgrade pyyaml==5.3.1"
      ]
    },
    {
      "cell_type": "code",
      "execution_count": null,
      "metadata": {
        "id": "3vw37G55LO6W"
      },
      "outputs": [],
      "source": [
        "%cd /content/gdrive/MyDrive"
      ]
    },
    {
      "cell_type": "markdown",
      "metadata": {
        "id": "AAPR8EpaLUC5"
      },
      "source": [
        "Clone repositorio"
      ]
    },
    {
      "cell_type": "code",
      "execution_count": null,
      "metadata": {
        "id": "H5TrdhgLLgx2"
      },
      "outputs": [],
      "source": [
        "!pwd"
      ]
    },
    {
      "cell_type": "code",
      "execution_count": null,
      "metadata": {
        "id": "bbHGh0dWLt0G"
      },
      "outputs": [],
      "source": [
        "!git clone https://github.com/tonilsonmanoel/Yolov7F1.git"
      ]
    },
    {
      "cell_type": "markdown",
      "metadata": {
        "id": "VWaZQ5MwN6PX"
      },
      "source": [
        "Ir Para Diretorio yolov7-F1"
      ]
    },
    {
      "cell_type": "code",
      "execution_count": null,
      "metadata": {
        "id": "NL01PdW6N89k"
      },
      "outputs": [],
      "source": [
        "!pwd"
      ]
    },
    {
      "cell_type": "code",
      "execution_count": null,
      "metadata": {
        "id": "PWHA55x6ODyl"
      },
      "outputs": [],
      "source": [
        "%cd yolov7-F1"
      ]
    },
    {
      "cell_type": "markdown",
      "metadata": {},
      "source": [
        "Execução Do treinamento da IA Yolov7"
      ]
    },
    {
      "cell_type": "code",
      "execution_count": null,
      "metadata": {
        "id": "v_0w5gKoQZBk"
      },
      "outputs": [],
      "source": [
        "!python train.py --device 0 --batch-size 20 --epochs 300 --img 640 640 --data data/custom-data.yaml --hyp data/hyp.scratch.custom.yaml --cfg cfg/training/yolov7-custom.yaml --weights yolov7.pt --name yolov7-custom"
      ]
    },
    {
      "cell_type": "markdown",
      "metadata": {
        "id": "749RQ5E8eHHF"
      },
      "source": [
        "Execução Detect Img ou Video"
      ]
    },
    {
      "cell_type": "code",
      "execution_count": null,
      "metadata": {
        "id": "3vebtC6vZAc_"
      },
      "outputs": [],
      "source": [
        "!python detect.py --weights f1.pt --conf 0.25 --img-size 640 --source video6.mp4"
      ]
    },
    {
      "cell_type": "code",
      "execution_count": null,
      "metadata": {
        "id": "_QJedBoDbBXQ"
      },
      "outputs": [],
      "source": [
        "!python detect.py --weights f1.pt --conf 0.5 --img-size 640 --source img1.jpg"
      ]
    }
  ],
  "metadata": {
    "accelerator": "GPU",
    "colab": {
      "collapsed_sections": [],
      "provenance": []
    },
    "gpuClass": "standard",
    "kernelspec": {
      "display_name": "Python 3",
      "name": "python3"
    },
    "language_info": {
      "name": "python"
    }
  },
  "nbformat": 4,
  "nbformat_minor": 0
}
