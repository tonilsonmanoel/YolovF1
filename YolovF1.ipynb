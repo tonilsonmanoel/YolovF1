{
  "cells": [
    {
      "cell_type": "markdown",
      "metadata": {
        "id": "view-in-github",
        "colab_type": "text"
      },
      "source": [
        "<a href=\"https://colab.research.google.com/github/tonilsonmanoel/YolovF1/blob/main/YolovF1.ipynb\" target=\"_parent\"><img src=\"https://colab.research.google.com/assets/colab-badge.svg\" alt=\"Open In Colab\"/></a>"
      ]
    },
    {
      "cell_type": "code",
      "execution_count": 2,
      "metadata": {
        "id": "VywgsBPbJi2P",
        "outputId": "ec363502-f696-424b-eba0-d595d65308f6",
        "colab": {
          "base_uri": "https://localhost:8080/"
        }
      },
      "outputs": [
        {
          "output_type": "stream",
          "name": "stdout",
          "text": [
            "Mounted at /content/gdrive\n"
          ]
        }
      ],
      "source": [
        "from google.colab import drive\n",
        "drive.mount(\"/content/gdrive\")"
      ]
    },
    {
      "cell_type": "code",
      "execution_count": 3,
      "metadata": {
        "id": "uaOoyK8uPCR2",
        "outputId": "883fe947-fd9c-4aee-ad01-25fac00510fa",
        "colab": {
          "base_uri": "https://localhost:8080/",
          "height": 35
        }
      },
      "outputs": [
        {
          "output_type": "execute_result",
          "data": {
            "text/plain": [
              "'6.0'"
            ],
            "application/vnd.google.colaboratory.intrinsic+json": {
              "type": "string"
            }
          },
          "metadata": {},
          "execution_count": 3
        }
      ],
      "source": [
        "import yaml\n",
        "\n",
        "yaml.__version__"
      ]
    },
    {
      "cell_type": "code",
      "execution_count": null,
      "metadata": {
        "id": "apkuL0qTPvZt"
      },
      "outputs": [],
      "source": [
        "!pip install --upgrade pyyaml==5.3.1"
      ]
    },
    {
      "cell_type": "code",
      "execution_count": 4,
      "metadata": {
        "id": "3vw37G55LO6W",
        "outputId": "f25f502f-f24e-445c-8717-397fbedc46c6",
        "colab": {
          "base_uri": "https://localhost:8080/"
        }
      },
      "outputs": [
        {
          "output_type": "stream",
          "name": "stdout",
          "text": [
            "/content/gdrive/MyDrive\n"
          ]
        }
      ],
      "source": [
        "%cd /content/gdrive/MyDrive"
      ]
    },
    {
      "cell_type": "markdown",
      "metadata": {
        "id": "AAPR8EpaLUC5"
      },
      "source": [
        "Clone repositorio"
      ]
    },
    {
      "cell_type": "code",
      "execution_count": null,
      "metadata": {
        "id": "H5TrdhgLLgx2"
      },
      "outputs": [],
      "source": [
        "!pwd"
      ]
    },
    {
      "cell_type": "code",
      "execution_count": 5,
      "metadata": {
        "id": "bbHGh0dWLt0G",
        "outputId": "5a4bdd44-0e76-4260-bb64-5a2258593964",
        "colab": {
          "base_uri": "https://localhost:8080/"
        }
      },
      "outputs": [
        {
          "output_type": "stream",
          "name": "stdout",
          "text": [
            "Cloning into 'Yolov7F1'...\n",
            "remote: Enumerating objects: 176, done.\u001b[K\n",
            "remote: Counting objects: 100% (9/9), done.\u001b[K\n",
            "remote: Compressing objects: 100% (9/9), done.\u001b[K\n",
            "remote: Total 176 (delta 2), reused 2 (delta 0), pack-reused 167\u001b[K\n",
            "Receiving objects: 100% (176/176), 172.83 MiB | 16.62 MiB/s, done.\n",
            "Resolving deltas: 100% (28/28), done.\n",
            "Checking out files: 100% (133/133), done.\n"
          ]
        }
      ],
      "source": [
        "!git clone https://github.com/tonilsonmanoel/YolovF1.git"
      ]
    },
    {
      "cell_type": "markdown",
      "metadata": {
        "id": "VWaZQ5MwN6PX"
      },
      "source": [
        "Ir Para Diretorio yolov7-F1"
      ]
    },
    {
      "cell_type": "code",
      "execution_count": 7,
      "metadata": {
        "id": "NL01PdW6N89k",
        "outputId": "cc0b3737-12bb-4b55-d5e3-845b444bdbd4",
        "colab": {
          "base_uri": "https://localhost:8080/"
        }
      },
      "outputs": [
        {
          "output_type": "stream",
          "name": "stdout",
          "text": [
            "/content/gdrive/MyDrive/Yolov7F1/yolov7-F1\n"
          ]
        }
      ],
      "source": [
        "!pwd"
      ]
    },
    {
      "cell_type": "code",
      "execution_count": 6,
      "metadata": {
        "id": "PWHA55x6ODyl",
        "outputId": "40adec3b-b0f0-4cc7-e51b-3b268e71ee38",
        "colab": {
          "base_uri": "https://localhost:8080/"
        }
      },
      "outputs": [
        {
          "output_type": "stream",
          "name": "stdout",
          "text": [
            "/content/gdrive/MyDrive/Yolov7F1/yolov7-F1\n"
          ]
        }
      ],
      "source": [
        "%cd Yolov7F1/yolov7-F1"
      ]
    },
    {
      "cell_type": "markdown",
      "metadata": {
        "id": "BJWJquIN2DRV"
      },
      "source": [
        "Execução Do treinamento da IA Yolov7"
      ]
    },
    {
      "cell_type": "code",
      "execution_count": null,
      "metadata": {
        "id": "v_0w5gKoQZBk"
      },
      "outputs": [],
      "source": [
        "!python train.py --device 0 --batch-size 20 --epochs 300 --img 640 640 --data data/custom-data.yaml --hyp data/hyp.scratch.custom.yaml --cfg cfg/training/yolov7-custom.yaml --weights yolov7.pt --name yolov7-custom"
      ]
    },
    {
      "cell_type": "markdown",
      "metadata": {
        "id": "749RQ5E8eHHF"
      },
      "source": [
        "Execução Detect Img ou Video"
      ]
    },
    {
      "cell_type": "code",
      "execution_count": null,
      "metadata": {
        "id": "3vebtC6vZAc_"
      },
      "outputs": [],
      "source": [
        "!python detect.py --weights best.pt --conf 0.30 --img-size 640 --source F1.mp4"
      ]
    },
    {
      "cell_type": "code",
      "execution_count": null,
      "metadata": {
        "id": "_QJedBoDbBXQ"
      },
      "outputs": [],
      "source": [
        "!python detect.py --weights f1.pt --conf 0.25 --img-size 640 --source img2.jpg"
      ]
    }
  ],
  "metadata": {
    "accelerator": "GPU",
    "colab": {
      "provenance": [],
      "include_colab_link": true
    },
    "gpuClass": "standard",
    "kernelspec": {
      "display_name": "Python 3",
      "name": "python3"
    },
    "language_info": {
      "name": "python"
    }
  },
  "nbformat": 4,
  "nbformat_minor": 0
}